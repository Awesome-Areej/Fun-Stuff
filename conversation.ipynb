{
  "nbformat": 4,
  "nbformat_minor": 0,
  "metadata": {
    "colab": {
      "name": "conversation.ipynb",
      "provenance": [],
      "authorship_tag": "ABX9TyOAmA5L6Obk5I9f7Cp2Jw0o",
      "include_colab_link": true
    },
    "kernelspec": {
      "name": "python3",
      "display_name": "Python 3"
    },
    "language_info": {
      "name": "python"
    }
  },
  "cells": [
    {
      "cell_type": "markdown",
      "metadata": {
        "id": "view-in-github",
        "colab_type": "text"
      },
      "source": [
        "<a href=\"https://colab.research.google.com/github/Awesome-Areej/Fun-Stuff/blob/master/conversation.ipynb\" target=\"_parent\"><img src=\"https://colab.research.google.com/assets/colab-badge.svg\" alt=\"Open In Colab\"/></a>"
      ]
    },
    {
      "cell_type": "code",
      "execution_count": null,
      "metadata": {
        "id": "bAJQUvQarKA-"
      },
      "outputs": [],
      "source": [
        "import numpy as np"
      ]
    },
    {
      "cell_type": "code",
      "source": [
        "#!pip install upsidedown\n",
        "import upsidedown"
      ],
      "metadata": {
        "id": "vbfxBCrt6xJu"
      },
      "execution_count": null,
      "outputs": []
    },
    {
      "cell_type": "code",
      "source": [
        "def do_my_french_work_for_me2(n):\n",
        "  letters = [x for x in n] \n",
        "  new_word = \"\"\n",
        "  for i in range(len(n)):\n",
        "    letter = np.random.choice(letters)\n",
        "    new_word += letter\n",
        "    letters.remove(letter)\n",
        "  return new_word\n",
        "    \n",
        "\n",
        "def more_french_work_(word):\n",
        "  words = \"\"\n",
        "  for i in range (3):\n",
        "    newword = do_my_french_work_for_me2(word)\n",
        "    words += \"\" + newword + \", \"\n",
        "  return words + \" ****** \" + (upsidedown.transform(word)) +\"\\n\"\n",
        "\n",
        "mylist = [\"coûts de production\", \"rétrogradation\", \"promotion\", \"valeur nette\", \"assurance\", \"marge brute\", \"statistiques\", \\\n",
        "          \"commercialisation\", \"prix de l'action\", \"dépenses\", \"coûts de production\", \"stage\", \"entreprise\", \"collègues de travail\", \\\n",
        "          \"collaboratrice\", \"collaborateur\"]  "
      ],
      "metadata": {
        "id": "qGdPoVdfsrc_"
      },
      "execution_count": null,
      "outputs": []
    },
    {
      "cell_type": "code",
      "source": [
        ""
      ],
      "metadata": {
        "id": "lOV1jhyjtGIe"
      },
      "execution_count": null,
      "outputs": []
    },
    {
      "cell_type": "markdown",
      "source": [
        "**LET'S PLAY NOW :)**\n",
        "\n",
        "Using the code above, fifteen french terms have been shuffled, three times each, to provide the puzzle below.\n",
        "\n",
        "\n",
        "The answer is upsidedown on its respective line."
      ],
      "metadata": {
        "id": "7e2B6RbF3vqM"
      }
    },
    {
      "cell_type": "code",
      "source": [
        "print(\"3 different shuffles to help (the answer is upsidedown): \")\n",
        "print(55*\"-\")\n",
        "for word in mylist:\n",
        "  print(more_french_work_(word))"
      ],
      "metadata": {
        "colab": {
          "base_uri": "https://localhost:8080/"
        },
        "id": "5AEjWC32y8FK",
        "outputId": "9330c189-466b-45c5-d605-44acca105d81"
      },
      "execution_count": null,
      "outputs": [
        {
          "output_type": "stream",
          "name": "stdout",
          "text": [
            "3 different shuffles to help (the answer is upsidedown): \n",
            "-------------------------------------------------------\n",
            "oo roicdûdu stetnpc, eûcidpou os cotdntr, cos onietrd dtpûcuo,  ****** uoᴉʇɔnpoɹd ǝp sʇn̬oɔ\n",
            "\n",
            "oorntrariaégdt, rttiédgaoarnor, todargoéirrtna,  ****** uoᴉʇɐpɐɹƃoɹʇǝ̗ɹ\n",
            "\n",
            "pnroomito, oimtrpnoo, nitomopro,  ****** uoᴉʇoɯoɹd\n",
            "\n",
            "lrneuteavte , ter tevulaen, lettu anreev,  ****** ǝʇʇǝu ɹnǝꞁɐʌ\n",
            "\n",
            "aeuacsrsn, crsuaaens, areaucsns,  ****** ǝɔuɐɹnssɐ\n",
            "\n",
            "rtgmu rbaee, meag betrru, tmugbeearr ,  ****** ǝʇnɹq ǝƃɹɐɯ\n",
            "\n",
            "itisttqsseau, qstiusatseti, qsttsiietaus,  ****** sǝnbᴉʇsᴉʇɐʇs\n",
            "\n",
            "aroiiicasnclmtemo, roccmaematnsiiiol, ciiacrmenalstioom,  ****** uoᴉʇɐsᴉꞁɐᴉɔɹǝɯɯoɔ\n",
            "\n",
            "actxe'linodi  pr, 'x na cleoiirdtp, itr dlaixp'n eoc,  ****** uoᴉʇɔɐ,ꞁ ǝp xᴉɹd\n",
            "\n",
            "eendséps, ednépess, ssepdéne,  ****** sǝsuǝdǝ̗p\n",
            "\n",
            " ru tdtcdspnoocoeiû, pduedcscoto i ûnort,  epdo uornccittûsdo,  ****** uoᴉʇɔnpoɹd ǝp sʇn̬oɔ\n",
            "\n",
            "esatg, tgase, teags,  ****** ǝƃɐʇs\n",
            "\n",
            "speneerirt, rtreipeens, peerrinest,  ****** ǝsᴉɹdǝɹʇuǝ\n",
            "\n",
            "uecl aètllvdgar oesi, gdcrvalèeta ill euso, ueet gèiadalsoll rcv,  ****** ꞁᴉɐʌɐɹʇ ǝp sǝnƃǝ̖ꞁꞁoɔ\n",
            "\n",
            "oarlecloartbci, lraaclroibcteo, retrlblcciaaoo,  ****** ǝɔᴉɹʇɐɹoqɐꞁꞁoɔ\n",
            "\n",
            "laroulbcertao, loaraublocert, ubcrloortelaa,  ****** ɹnǝʇɐɹoqɐꞁꞁoɔ\n",
            "\n"
          ]
        }
      ]
    },
    {
      "cell_type": "code",
      "source": [
        ""
      ],
      "metadata": {
        "id": "PJ1nibuXy-Lo"
      },
      "execution_count": null,
      "outputs": []
    },
    {
      "cell_type": "code",
      "source": [
        ""
      ],
      "metadata": {
        "id": "oTCo8ZNt15s7"
      },
      "execution_count": null,
      "outputs": []
    }
  ]
}